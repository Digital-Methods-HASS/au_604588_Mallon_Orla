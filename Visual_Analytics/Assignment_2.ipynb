{
 "cells": [
  {
   "cell_type": "markdown",
   "metadata": {},
   "source": [
    "## Assignment 2 Description "
   ]
  },
  {
   "cell_type": "markdown",
   "metadata": {},
   "source": [
    "\n",
    "Download the Oxford-17 flowers image data set, available at this link:\n",
    "\n",
    "\n",
    "https://www.robots.ox.ac.uk/~vgg/data/flowers/17/\n",
    "\n",
    "\n",
    "Choose one image in your data that you want to be the 'target image'. Write a Python script or Notebook which does the following:\n",
    "\n",
    "Use the cv2.compareHist() function to compare the 3D color histogram for your target image to each of the other images in the corpus one-by-one.\n",
    "In particular, use chi-square distance method, like we used in class. Round this number to 2 decimal places.\n",
    "Save the results from this comparison as a single .csv file, showing the distance between your target image and each of the other images. The .csv file should show the filename for every image in your data except the target and the distance metric between that image and your target. Call your columns: filename, distance.\n",
    "Print the filename of the image which is 'closest' to your target image\n",
    "\n",
    "Purpose\n",
    "\n",
    "This assignment is designed to test that you have a understanding of:\n",
    "\n",
    "how to make extract features from images based on colour space;\n",
    "how to compare images for similarity based on their colour histogram;\n",
    "how to combine these skills to create an image 'search engine'"
   ]
  },
  {
   "cell_type": "markdown",
   "metadata": {},
   "source": [
    "__Dependencies__ "
   ]
  },
  {
   "cell_type": "code",
   "execution_count": 18,
   "metadata": {},
   "outputs": [],
   "source": [
    "#Load in the necessary packages\n",
    "import os\n",
    "import sys\n",
    "sys.path.append(os.path.join(\"..\"))\n",
    "from pathlib import Path \n",
    "import argparse \n",
    "\n",
    "#impage processing\n",
    "import cv2\n",
    "import numpy as np\n",
    "import pandas as pd\n",
    "\n",
    "#display \n",
    "from utils.imutils import jimshow\n",
    "import matplotlib.pyplot as plt\n"
   ]
  },
  {
   "cell_type": "markdown",
   "metadata": {},
   "source": [
    "__Create the path to the flower images__"
   ]
  },
  {
   "cell_type": "code",
   "execution_count": 19,
   "metadata": {},
   "outputs": [],
   "source": [
    "path = os.path.join(\"..\", \"data\", \"Flowers\")\n",
    "target = \"image_1360.jpg\""
   ]
  },
  {
   "cell_type": "markdown",
   "metadata": {},
   "source": [
    "__Define the function to loop through images and make comparisons__"
   ]
  },
  {
   "cell_type": "code",
   "execution_count": 24,
   "metadata": {},
   "outputs": [],
   "source": [
    "def compare_images(image_directory, target_name):\n",
    "    \n",
    "    # read in the target image \n",
    "    target_image = cv2.imread(os.path.join(image_directory, target_name))\n",
    "    # create histogram for all 3 color channels\n",
    "    target_hist = cv2.calcHist([target_image], [0,1,2], None, [8,8,8], [0,256, 0,256, 0,256])\n",
    "    # normalise the histogram - We do this to get rid of outliers and make the comparisons a bit more robust\n",
    "    target_hist_norm = cv2.normalize(target_hist, target_hist, 0,255, cv2.NORM_MINMAX)\n",
    "    \n",
    "    # Create an empty dataframe for the information to be saved into  \n",
    "    data = pd.DataFrame(columns=[\"filename\", \"distance\"])\n",
    "    \n",
    "    # Now our loop begins. We're saying... for each image (ending with .jpg) in the directory\n",
    "    for image_path in Path(image_directory).glob(\"*.jpg\"):\n",
    "        # take only the image name\n",
    "        _, image = os.path.split(image_path)\n",
    "        # if this image is not the target image\n",
    "        if image != target_name:\n",
    "            # then read the image and save it as a comparison image\n",
    "            comparison_image = cv2.imread(os.path.join(image_directory, image))\n",
    "            # Next we want to create a histogram for comparison iamge\n",
    "            comparison_hist = cv2.calcHist([comparison_image], [0,1,2], None, [8,8,8], [0,256, 0,256, 0,256])\n",
    "            # Normalise this comparison image \n",
    "            comparison_hist_norm = cv2.normalize(comparison_hist, comparison_hist, 0,255, cv2.NORM_MINMAX)    \n",
    "            # and calculate the chisquare distance to tell how far apart they are - smaller numbers are closer \n",
    "            distance = round(cv2.compareHist(target_hist_norm, comparison_hist_norm, cv2.HISTCMP_CHISQR), 2)\n",
    "            # Finally, we append this info to the dataframe\n",
    "            data = data.append({\"filename\": image, \n",
    "                                \"distance\": distance}, ignore_index = True)\n",
    "            \n",
    "    # find image which is closest \n",
    "    print(data[data.distance == data.distance.min()]) \n",
    "    \n",
    "    # save as csv in current directory (Notebooks)\n",
    "    data.to_csv(f\"{target_name}_comparison.csv\")\n",
    "    # print that file has been saved - this lets us know that it's worked \n",
    "    print(f\"output file is saved in current directory as {target_name}_comparison.csv\")"
   ]
  },
  {
   "cell_type": "code",
   "execution_count": 25,
   "metadata": {},
   "outputs": [
    {
     "name": "stdout",
     "output_type": "stream",
     "text": [
      "          filename  distance\n",
      "84  image_1279.jpg   3082.76\n",
      "output file is saved in current directory as image_1360.jpg_comparison.csv\n"
     ]
    }
   ],
   "source": [
    "compare_images(path, target) #Nice we find the image which is closest - it's image 1279 "
   ]
  },
  {
   "cell_type": "code",
   "execution_count": null,
   "metadata": {},
   "outputs": [],
   "source": []
  }
 ],
 "metadata": {
  "kernelspec": {
   "display_name": "cv101",
   "language": "python",
   "name": "cv101"
  },
  "language_info": {
   "codemirror_mode": {
    "name": "ipython",
    "version": 3
   },
   "file_extension": ".py",
   "mimetype": "text/x-python",
   "name": "python",
   "nbconvert_exporter": "python",
   "pygments_lexer": "ipython3",
   "version": "3.6.9"
  }
 },
 "nbformat": 4,
 "nbformat_minor": 4
}
